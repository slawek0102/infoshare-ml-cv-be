{
 "cells": [
  {
   "cell_type": "code",
   "execution_count": 1,
   "id": "88da424d-6903-4d4a-86a5-3e354ae27480",
   "metadata": {},
   "outputs": [],
   "source": [
    "import pandas as pd\n",
    "import seaborn as sns\n",
    "import tensorflow as tf\n",
    "import numpy as np\n",
    "import matplotlib.pyplot as plt\n",
    "import sklearn \n",
    "from sklearn.model_selection import train_test_split"
   ]
  },
  {
   "cell_type": "code",
   "execution_count": 2,
   "id": "5ab7b0e7-c8e4-4ded-8582-79d4ca9fa64a",
   "metadata": {},
   "outputs": [],
   "source": [
    "temp_df = pd.read_csv('./data/dane.csv')"
   ]
  },
  {
   "cell_type": "markdown",
   "id": "a88da777-3800-4acb-893e-469925e35960",
   "metadata": {},
   "source": [
    " ## Zadanie: Stworzenie modelu deep learning symulującego funkcję y = 2*X. "
   ]
  },
  {
   "cell_type": "code",
   "execution_count": 3,
   "id": "f2b53c13-0288-4ed4-b4f0-7176c446a8f2",
   "metadata": {},
   "outputs": [
    {
     "data": {
      "text/html": [
       "<div>\n",
       "<style scoped>\n",
       "    .dataframe tbody tr th:only-of-type {\n",
       "        vertical-align: middle;\n",
       "    }\n",
       "\n",
       "    .dataframe tbody tr th {\n",
       "        vertical-align: top;\n",
       "    }\n",
       "\n",
       "    .dataframe thead th {\n",
       "        text-align: right;\n",
       "    }\n",
       "</style>\n",
       "<table border=\"1\" class=\"dataframe\">\n",
       "  <thead>\n",
       "    <tr style=\"text-align: right;\">\n",
       "      <th></th>\n",
       "      <th>X</th>\n",
       "      <th>y</th>\n",
       "    </tr>\n",
       "  </thead>\n",
       "  <tbody>\n",
       "    <tr>\n",
       "      <th>0</th>\n",
       "      <td>1</td>\n",
       "      <td>2</td>\n",
       "    </tr>\n",
       "    <tr>\n",
       "      <th>1</th>\n",
       "      <td>2</td>\n",
       "      <td>4</td>\n",
       "    </tr>\n",
       "    <tr>\n",
       "      <th>2</th>\n",
       "      <td>3</td>\n",
       "      <td>6</td>\n",
       "    </tr>\n",
       "    <tr>\n",
       "      <th>3</th>\n",
       "      <td>4</td>\n",
       "      <td>8</td>\n",
       "    </tr>\n",
       "    <tr>\n",
       "      <th>4</th>\n",
       "      <td>5</td>\n",
       "      <td>10</td>\n",
       "    </tr>\n",
       "  </tbody>\n",
       "</table>\n",
       "</div>"
      ],
      "text/plain": [
       "   X   y\n",
       "0  1   2\n",
       "1  2   4\n",
       "2  3   6\n",
       "3  4   8\n",
       "4  5  10"
      ]
     },
     "execution_count": 3,
     "metadata": {},
     "output_type": "execute_result"
    }
   ],
   "source": [
    "temp_df.head()"
   ]
  },
  {
   "cell_type": "code",
   "execution_count": 4,
   "id": "26571b13-8ecb-4105-90ea-bcb7a93f3579",
   "metadata": {},
   "outputs": [
    {
     "name": "stdout",
     "output_type": "stream",
     "text": [
      "<class 'pandas.core.frame.DataFrame'>\n",
      "RangeIndex: 1000 entries, 0 to 999\n",
      "Data columns (total 2 columns):\n",
      " #   Column  Non-Null Count  Dtype\n",
      "---  ------  --------------  -----\n",
      " 0   X       1000 non-null   int64\n",
      " 1   y       1000 non-null   int64\n",
      "dtypes: int64(2)\n",
      "memory usage: 15.8 KB\n"
     ]
    }
   ],
   "source": [
    "temp_df.info()"
   ]
  },
  {
   "cell_type": "code",
   "execution_count": 5,
   "id": "21e56ffd-8c2b-4f0c-95e6-0bc4b2aa038d",
   "metadata": {},
   "outputs": [
    {
     "data": {
      "text/plain": [
       "<Axes: xlabel='X', ylabel='y'>"
      ]
     },
     "execution_count": 5,
     "metadata": {},
     "output_type": "execute_result"
    },
    {
     "data": {
      "image/png": "[encoded data removed]",
      "text/plain": [
       "<Figure size 640x480 with 1 Axes>"
      ]
     },
     "metadata": {},
     "output_type": "display_data"
    }
   ],
   "source": [
    "sns.scatterplot( x='X', y ='y', data=temp_df )"
   ]
  },
  {
   "cell_type": "code",
   "execution_count": 6,
   "id": "6f5a6bea-9d3d-4823-86f2-efa688f7f8b9",
   "metadata": {},
   "outputs": [],
   "source": [
    "X = temp_df['X']\n",
    "y = temp_df['y']"
   ]
  },
  {
   "cell_type": "code",
   "execution_count": 7,
   "id": "a44c5ead-8658-4536-9432-7f18d6fd638d",
   "metadata": {},
   "outputs": [],
   "source": [
    "X_train, X_test, y_train, y_test = train_test_split(X, y, test_size=0.6, random_state=42)"
   ]
  },
  {
   "cell_type": "code",
   "execution_count": 8,
   "id": "2258b27a-9961-4ed4-b61d-3e44105ad68d",
   "metadata": {},
   "outputs": [
    {
     "data": {
      "text/plain": [
       "(400,)"
      ]
     },
     "execution_count": 8,
     "metadata": {},
     "output_type": "execute_result"
    }
   ],
   "source": [
    "X_train.shape"
   ]
  },
  {
   "cell_type": "code",
   "execution_count": 9,
   "id": "6058ce82-b09e-4de6-a58c-bd940756adc9",
   "metadata": {},
   "outputs": [],
   "source": [
    "model = tf.keras.Sequential()   "
   ]
  },
  {
   "cell_type": "code",
   "execution_count": 10,
   "id": "c9f40fed-f3d7-4520-89ad-fe2f671f2aa1",
   "metadata": {},
   "outputs": [],
   "source": [
    "model.add(tf.keras.layers.Dense(units = 1, input_shape = [1]))\n",
    "model.add(tf.keras.layers.Dense(units = 50 ))\n",
    "model.add(tf.keras.layers.Dense(units = 50 ))\n",
    "model.add(tf.keras.layers.Dense(units = 1 ))"
   ]
  },
  {
   "cell_type": "code",
   "execution_count": 11,
   "id": "371967ef-9173-44de-84fd-8385ad485fc3",
   "metadata": {},
   "outputs": [
    {
     "name": "stdout",
     "output_type": "stream",
     "text": [
      "Model: \"sequential\"\n",
      "_________________________________________________________________\n",
      " Layer (type)                Output Shape              Param #   \n",
      "=================================================================\n",
      " dense (Dense)               (None, 1)                 2         \n",
      "                                                                 \n",
      " dense_1 (Dense)             (None, 50)                100       \n",
      "                                                                 \n",
      " dense_2 (Dense)             (None, 50)                2550      \n",
      "                                                                 \n",
      " dense_3 (Dense)             (None, 1)                 51        \n",
      "                                                                 \n",
      "=================================================================\n",
      "Total params: 2703 (10.56 KB)\n",
      "Trainable params: 2703 (10.56 KB)\n",
      "Non-trainable params: 0 (0.00 Byte)\n",
      "_________________________________________________________________\n"
     ]
    }
   ],
   "source": [
    "model.summary()"
   ]
  },
  {
   "cell_type": "code",
   "execution_count": 12,
   "id": "be76e210-641b-4f8c-9faf-6795855ea67c",
   "metadata": {},
   "outputs": [
    {
     "name": "stderr",
     "output_type": "stream",
     "text": [
      "WARNING:absl:At this time, the v2.11+ optimizer `tf.keras.optimizers.Adam` runs slowly on M1/M2 Macs, please use the legacy Keras optimizer instead, located at `tf.keras.optimizers.legacy.Adam`.\n",
      "WARNING:absl:There is a known slowdown when using v2.11+ Keras optimizers on M1/M2 Macs. Falling back to the legacy Keras optimizer, i.e., `tf.keras.optimizers.legacy.Adam`.\n"
     ]
    }
   ],
   "source": [
    "model.compile(optimizer=tf.keras.optimizers.Adam(0.002), loss = 'mean_squared_error')"
   ]
  },
  {
   "cell_type": "code",
   "execution_count": 13,
   "id": "6a227f29-1e9d-4e1a-9ca5-68c932ef2f69",
   "metadata": {},
   "outputs": [
    {
     "name": "stdout",
     "output_type": "stream",
     "text": [
      "Epoch 1/25\n",
      "13/13 [==============================] - 0s 622us/step - loss: 433631.1250\n",
      "Epoch 2/25\n",
      "13/13 [==============================] - 0s 632us/step - loss: 65460.2969\n",
      "Epoch 3/25\n",
      "13/13 [==============================] - 0s 613us/step - loss: 8140.7192\n",
      "Epoch 4/25\n",
      "13/13 [==============================] - 0s 558us/step - loss: 3511.1416\n",
      "Epoch 5/25\n",
      "13/13 [==============================] - 0s 611us/step - loss: 1280.1245\n",
      "Epoch 6/25\n",
      "13/13 [==============================] - 0s 572us/step - loss: 303.4220\n",
      "Epoch 7/25\n",
      "13/13 [==============================] - 0s 569us/step - loss: 72.9636\n",
      "Epoch 8/25\n",
      "13/13 [==============================] - 0s 523us/step - loss: 17.2211\n",
      "Epoch 9/25\n",
      "13/13 [==============================] - 0s 540us/step - loss: 5.2406\n",
      "Epoch 10/25\n",
      "13/13 [==============================] - 0s 503us/step - loss: 1.5726\n",
      "Epoch 11/25\n",
      "13/13 [==============================] - 0s 564us/step - loss: 0.4692\n",
      "Epoch 12/25\n",
      "13/13 [==============================] - 0s 535us/step - loss: 0.1597\n",
      "Epoch 13/25\n",
      "13/13 [==============================] - 0s 571us/step - loss: 0.0784\n",
      "Epoch 14/25\n",
      "13/13 [==============================] - 0s 519us/step - loss: 0.0489\n",
      "Epoch 15/25\n",
      "13/13 [==============================] - 0s 576us/step - loss: 0.0429\n",
      "Epoch 16/25\n",
      "13/13 [==============================] - 0s 481us/step - loss: 0.0419\n",
      "Epoch 17/25\n",
      "13/13 [==============================] - 0s 570us/step - loss: 0.0422\n",
      "Epoch 18/25\n",
      "13/13 [==============================] - 0s 554us/step - loss: 0.0416\n",
      "Epoch 19/25\n",
      "13/13 [==============================] - 0s 592us/step - loss: 0.0417\n",
      "Epoch 20/25\n",
      "13/13 [==============================] - 0s 482us/step - loss: 0.0415\n",
      "Epoch 21/25\n",
      "13/13 [==============================] - 0s 542us/step - loss: 0.0413\n",
      "Epoch 22/25\n",
      "13/13 [==============================] - 0s 491us/step - loss: 0.0410\n",
      "Epoch 23/25\n",
      "13/13 [==============================] - 0s 529us/step - loss: 0.0412\n",
      "Epoch 24/25\n",
      "13/13 [==============================] - 0s 523us/step - loss: 0.0409\n",
      "Epoch 25/25\n",
      "13/13 [==============================] - 0s 556us/step - loss: 0.0407\n"
     ]
    }
   ],
   "source": [
    "epochs_hist = model.fit(X_train, y_train, epochs = 25)"
   ]
  },
  {
   "cell_type": "code",
   "execution_count": 14,
   "id": "c7027409-bc32-4ce7-8956-780537ab2535",
   "metadata": {},
   "outputs": [
    {
     "data": {
      "text/plain": [
       "dict_keys(['loss'])"
      ]
     },
     "execution_count": 14,
     "metadata": {},
     "output_type": "execute_result"
    }
   ],
   "source": [
    "epochs_hist.history.keys()"
   ]
  },
  {
   "cell_type": "code",
   "execution_count": 15,
   "id": "5b0034c7-d2e5-4983-9421-b81ec245e062",
   "metadata": {},
   "outputs": [
    {
     "data": {
      "text/plain": [
       "<matplotlib.legend.Legend at 0x3109b1fa0>"
      ]
     },
     "execution_count": 15,
     "metadata": {},
     "output_type": "execute_result"
    },
    {
     "data": {
      "image/png": "[encoded data removed]",
      "text/plain": [
       "<Figure size 640x480 with 1 Axes>"
      ]
     },
     "metadata": {},
     "output_type": "display_data"
    }
   ],
   "source": [
    "plt.plot(epochs_hist.history['loss'] )\n",
    "plt.title('Model Loss')\n",
    "plt.xlabel('Epochs')\n",
    "plt.ylabel('Training Loss')\n",
    "plt.legend(['My training loss'] )"
   ]
  },
  {
   "cell_type": "code",
   "execution_count": 18,
   "id": "86dce456-dddd-41d0-b67e-dfd120a699e6",
   "metadata": {},
   "outputs": [],
   "source": [
    "## Testowe Wartosci\n",
    "X_new = np.array([-20])"
   ]
  },
  {
   "cell_type": "code",
   "execution_count": 17,
   "id": "a505df26-91a0-41db-b96c-0fdd9f6bb007",
   "metadata": {},
   "outputs": [
    {
     "name": "stdout",
     "output_type": "stream",
     "text": [
      "1/1 [==============================] - 0s 33ms/step\n",
      "Przewidywane wartości y: [-39.57193]\n"
     ]
    }
   ],
   "source": [
    "y_pred = model.predict(X_new)\n",
    "print(\"Przewidywane wartości y:\", y_pred.flatten())\n"
   ]
  },
  {
   "cell_type": "markdown",
   "id": "c141b3fc-86f3-4e38-9529-b2d6158ecb4c",
   "metadata": {},
   "source": [
    "## Nie udało się w pełni odwzorować funkcji y=2*x przy pomocy Sieci Neuronowych. Zmiana parametrów powoduje jednie zmianę płędu, lecz go całkowicie nie eliminuje. Przykladowo dla wartości -20 model generuje wartość -39.57.\n"
   ]
  },
  {
   "cell_type": "code",
   "execution_count": null,
   "id": "2ee7f51d-dade-444a-a71a-c19d8cb8d73d",
   "metadata": {},
   "outputs": [],
   "source": []
  }
 ],
 "metadata": {
  "kernelspec": {
   "display_name": "Python (mojesrodowisko)",
   "language": "python",
   "name": "mojesrodowisko"
  },
  "language_info": {
   "codemirror_mode": {
    "name": "ipython",
    "version": 3
   },
   "file_extension": ".py",
   "mimetype": "text/x-python",
   "name": "python",
   "nbconvert_exporter": "python",
   "pygments_lexer": "ipython3",
   "version": "3.8.19"
  }
 },
 "nbformat": 4,
 "nbformat_minor": 5
}
